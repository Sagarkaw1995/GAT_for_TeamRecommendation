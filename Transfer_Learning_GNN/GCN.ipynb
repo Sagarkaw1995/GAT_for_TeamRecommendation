{
 "cells": [
  {
   "cell_type": "code",
   "execution_count": 1,
   "id": "ea15f179",
   "metadata": {},
   "outputs": [],
   "source": [
    "import os\n",
    "import pandas as pd"
   ]
  },
  {
   "cell_type": "code",
   "execution_count": 2,
   "id": "aab8d63c",
   "metadata": {},
   "outputs": [
    {
     "name": "stderr",
     "output_type": "stream",
     "text": [
      "2022-11-17 19:39:26.263801: I tensorflow/core/platform/cpu_feature_guard.cc:193] This TensorFlow binary is optimized with oneAPI Deep Neural Network Library (oneDNN) to use the following CPU instructions in performance-critical operations:  AVX2 FMA\n",
      "To enable them in other operations, rebuild TensorFlow with the appropriate compiler flags.\n"
     ]
    }
   ],
   "source": [
    "from stellargraph import StellarGraph\n",
    "from stellargraph.mapper import (CorruptedGenerator, FullBatchNodeGenerator)\n",
    "from stellargraph import StellarGraph\n",
    "from stellargraph.layer import DeepGraphInfomax, GCN\n",
    "from stellargraph.utils import plot_history\n",
    "from tensorflow.keras.optimizers import Adam\n",
    "from tensorflow.keras.callbacks import EarlyStopping\n",
    "import tensorflow as tf\n",
    "from tensorflow.keras import Model\n",
    "from sklearn.preprocessing import normalize"
   ]
  },
  {
   "cell_type": "code",
   "execution_count": 18,
   "id": "2fa7cbe8",
   "metadata": {},
   "outputs": [],
   "source": [
    "src_dir = './processed_data/'\n",
    "\n",
    "nodes_DBLP_df = pd.read_csv(\n",
    "    os.path.join(\n",
    "        src_dir,\n",
    "        'nodes_DBLP.csv'),\n",
    "    index_col = 0\n",
    ")\n",
    "\n",
    "\n",
    "fpath_list = ['nodes_DBLP_edges_withRelations.csv']\n",
    "df_edges = None\n",
    "for fpath in fpath_list:\n",
    "    _df = pd.read_csv( os.path.join(src_dir,fpath), index_col = None )\n",
    "    if df_edges is None : df_edges = _df\n",
    "    else:\n",
    "        df_edges = df_edges.append(_df,ignore_index= True)"
   ]
  },
  {
   "cell_type": "code",
   "execution_count": 19,
   "id": "7e9293db",
   "metadata": {},
   "outputs": [],
   "source": [
    "graph_obj = StellarGraph({\n",
    "    \"DBLP\": nodes_DBLP_df\n",
    "},\n",
    "    df_edges, edge_type_column=\"orientation\"\n",
    ")"
   ]
  },
  {
   "cell_type": "code",
   "execution_count": 20,
   "id": "5dc0c90c",
   "metadata": {},
   "outputs": [
    {
     "name": "stdout",
     "output_type": "stream",
     "text": [
      "StellarGraph: Undirected multigraph\n",
      " Nodes: 8760, Edges: 51228\n",
      "\n",
      " Node types:\n",
      "  DBLP: [8760]\n",
      "    Features: float32 vector, length 2470\n",
      "    Edge types: DBLP->Paper-Author->DBLP, DBLP->Paper-Conference->DBLP, DBLP->Paper-Term->DBLP\n",
      "\n",
      " Edge types:\n",
      "    DBLP->Paper-Term->DBLP: [30682]\n",
      "        Weights: all 1 (default)\n",
      "        Features: none\n",
      "    DBLP->Paper-Author->DBLP: [15868]\n",
      "        Weights: all 1 (default)\n",
      "        Features: none\n",
      "    DBLP->Paper-Conference->DBLP: [4678]\n",
      "        Weights: all 1 (default)\n",
      "        Features: none\n"
     ]
    }
   ],
   "source": [
    "print(graph_obj.info())"
   ]
  },
  {
   "cell_type": "code",
   "execution_count": 6,
   "id": "d2930698",
   "metadata": {},
   "outputs": [],
   "source": [
    "import keras\n",
    "import time\n",
    "class TimeHistory(keras.callbacks.Callback):\n",
    "    \n",
    "    def on_train_begin(self, logs={}):\n",
    "        self.times = []\n",
    "\n",
    "    def on_epoch_begin(self, batch, logs={}):\n",
    "        self.epoch_time_start = time.time()\n",
    "\n",
    "    def on_epoch_end(self, batch, logs={}):\n",
    "        self.times.append(time.time() - self.epoch_time_start)"
   ]
  },
  {
   "cell_type": "code",
   "execution_count": 7,
   "id": "cf537649",
   "metadata": {},
   "outputs": [],
   "source": [
    "model_use_data_DIR = 'model_use_data'\n",
    "if not os.path.exists(model_use_data_DIR):\n",
    "    os.mkdir(model_use_data_DIR)\n",
    "model_use_data_DIR = os.path.join(model_use_data_DIR,'DBLP')\n",
    "if not os.path.exists(model_use_data_DIR):\n",
    "    os.mkdir(model_use_data_DIR)\n",
    "\n",
    "\n",
    "model_save_path = 'model_save_dir'\n",
    "if not os.path.exists(model_save_path):\n",
    "    os.mkdir(model_save_path)\n",
    "model_save_path = os.path.join(model_save_path,'DBLP')\n",
    "if not os.path.exists(model_save_path):\n",
    "    os.mkdir(model_save_path)\n",
    "    \n",
    "\n",
    "model_save_ComputationTimePerEpoch = 'model_save_ComputationTime'\n",
    "if not os.path.exists(model_save_ComputationTimePerEpoch):\n",
    "    os.mkdir(model_save_ComputationTimePerEpoch)\n",
    "model_save_ComputationTimePerEpoch = os.path.join(model_save_ComputationTimePerEpoch,'DBLP')\n",
    "if not os.path.exists(model_save_ComputationTimePerEpoch):\n",
    "    os.mkdir(model_save_ComputationTimePerEpoch)\n",
    "    \n",
    "\n",
    "emb_fpath_GAT = os.path.join(model_use_data_DIR, 'embeddings_GAT.npy')\n",
    "emb_fpath_GCN = os.path.join(model_use_data_DIR, 'embeddings_GCN.npy')\n",
    "emb_fpath_RGCN = os.path.join(model_use_data_DIR, 'embeddings_RGCN.npy')\n",
    "emb_fpath_HINSAGE = os.path.join(model_use_data_DIR, 'embeddings_HINSAGE.npy')"
   ]
  },
  {
   "cell_type": "code",
   "execution_count": 8,
   "id": "abd2a84a",
   "metadata": {},
   "outputs": [],
   "source": [
    "es = EarlyStopping(monitor=\"loss\", min_delta=0, patience=20)\n",
    "time_callback = TimeHistory()\n",
    "def run_deep_graph_infomax(base_model, generator, epochs, reorder=lambda sequence, subjects: subjects):\n",
    "    corrupted_generator = CorruptedGenerator(generator)\n",
    "    gen = corrupted_generator.flow(graph_obj.nodes(node_type='DBLP'))\n",
    "    infomax = DeepGraphInfomax(base_model, corrupted_generator)\n",
    "\n",
    "    x_in, x_out = infomax.in_out_tensors()\n",
    "\n",
    "    model = Model(inputs=x_in, outputs=x_out)\n",
    "    model.compile(loss=tf.nn.sigmoid_cross_entropy_with_logits, optimizer=Adam(lr=1e-3))\n",
    "    history = model.fit(gen, epochs=epochs, verbose=0, callbacks=[es])\n",
    "\n",
    "    x_emb_in, x_emb_out = base_model.in_out_tensors()\n",
    "    # for full batch models, squeeze out the batch dim (which is 1)\n",
    "    if generator.num_batch_dims() == 2:\n",
    "        x_emb_out = tf.squeeze(x_emb_out, axis=0)\n",
    "\n",
    "    emb_model = Model(inputs=x_emb_in, outputs=x_emb_out)   \n",
    "    history = model.fit(gen, epochs=epochs, verbose=2, callbacks=[time_callback])\n",
    "    plot_history(history)\n",
    "    \n",
    "    return emb_model #, x_emb_in, x_emb_out, all_embeddings"
   ]
  },
  {
   "cell_type": "code",
   "execution_count": 9,
   "id": "4ba9aecb",
   "metadata": {
    "scrolled": true
   },
   "outputs": [
    {
     "name": "stdout",
     "output_type": "stream",
     "text": [
      "Using GCN (local pooling) filters...\n"
     ]
    },
    {
     "name": "stderr",
     "output_type": "stream",
     "text": [
      "/Users/sagarkaw/Library/Python/3.8/lib/python/site-packages/keras/optimizers/optimizer_v2/adam.py:110: UserWarning: The `lr` argument is deprecated, use `learning_rate` instead.\n",
      "  super(Adam, self).__init__(name, **kwargs)\n"
     ]
    },
    {
     "name": "stdout",
     "output_type": "stream",
     "text": [
      "Epoch 1/100\n",
      "1/1 - 1s - loss: 0.2633 - 535ms/epoch - 535ms/step\n",
      "Epoch 2/100\n",
      "1/1 - 1s - loss: 0.2550 - 553ms/epoch - 553ms/step\n",
      "Epoch 3/100\n",
      "1/1 - 1s - loss: 0.2648 - 547ms/epoch - 547ms/step\n",
      "Epoch 4/100\n",
      "1/1 - 1s - loss: 0.2553 - 538ms/epoch - 538ms/step\n",
      "Epoch 5/100\n",
      "1/1 - 1s - loss: 0.2532 - 540ms/epoch - 540ms/step\n",
      "Epoch 6/100\n",
      "1/1 - 1s - loss: 0.2479 - 544ms/epoch - 544ms/step\n",
      "Epoch 7/100\n",
      "1/1 - 1s - loss: 0.2502 - 549ms/epoch - 549ms/step\n",
      "Epoch 8/100\n",
      "1/1 - 1s - loss: 0.2507 - 550ms/epoch - 550ms/step\n",
      "Epoch 9/100\n",
      "1/1 - 1s - loss: 0.2527 - 881ms/epoch - 881ms/step\n",
      "Epoch 10/100\n",
      "1/1 - 1s - loss: 0.2497 - 563ms/epoch - 563ms/step\n",
      "Epoch 11/100\n",
      "1/1 - 1s - loss: 0.2435 - 566ms/epoch - 566ms/step\n",
      "Epoch 12/100\n",
      "1/1 - 1s - loss: 0.2422 - 554ms/epoch - 554ms/step\n",
      "Epoch 13/100\n",
      "1/1 - 1s - loss: 0.2396 - 545ms/epoch - 545ms/step\n",
      "Epoch 14/100\n",
      "1/1 - 1s - loss: 0.2417 - 549ms/epoch - 549ms/step\n",
      "Epoch 15/100\n",
      "1/1 - 1s - loss: 0.2335 - 552ms/epoch - 552ms/step\n",
      "Epoch 16/100\n",
      "1/1 - 1s - loss: 0.2437 - 535ms/epoch - 535ms/step\n",
      "Epoch 17/100\n",
      "1/1 - 1s - loss: 0.2404 - 665ms/epoch - 665ms/step\n",
      "Epoch 18/100\n",
      "1/1 - 1s - loss: 0.2324 - 808ms/epoch - 808ms/step\n",
      "Epoch 19/100\n",
      "1/1 - 1s - loss: 0.2354 - 562ms/epoch - 562ms/step\n",
      "Epoch 20/100\n",
      "1/1 - 1s - loss: 0.2343 - 850ms/epoch - 850ms/step\n",
      "Epoch 21/100\n",
      "1/1 - 1s - loss: 0.2347 - 562ms/epoch - 562ms/step\n",
      "Epoch 22/100\n",
      "1/1 - 1s - loss: 0.2314 - 695ms/epoch - 695ms/step\n",
      "Epoch 23/100\n",
      "1/1 - 1s - loss: 0.2283 - 581ms/epoch - 581ms/step\n",
      "Epoch 24/100\n",
      "1/1 - 1s - loss: 0.2371 - 563ms/epoch - 563ms/step\n",
      "Epoch 25/100\n",
      "1/1 - 1s - loss: 0.2324 - 586ms/epoch - 586ms/step\n",
      "Epoch 26/100\n",
      "1/1 - 1s - loss: 0.2379 - 665ms/epoch - 665ms/step\n",
      "Epoch 27/100\n",
      "1/1 - 1s - loss: 0.2367 - 822ms/epoch - 822ms/step\n",
      "Epoch 28/100\n",
      "1/1 - 1s - loss: 0.2241 - 611ms/epoch - 611ms/step\n",
      "Epoch 29/100\n",
      "1/1 - 1s - loss: 0.2468 - 581ms/epoch - 581ms/step\n",
      "Epoch 30/100\n",
      "1/1 - 1s - loss: 0.2346 - 603ms/epoch - 603ms/step\n",
      "Epoch 31/100\n",
      "1/1 - 1s - loss: 0.2441 - 602ms/epoch - 602ms/step\n",
      "Epoch 32/100\n",
      "1/1 - 1s - loss: 0.2388 - 590ms/epoch - 590ms/step\n",
      "Epoch 33/100\n",
      "1/1 - 1s - loss: 0.2271 - 553ms/epoch - 553ms/step\n",
      "Epoch 34/100\n",
      "1/1 - 1s - loss: 0.2258 - 573ms/epoch - 573ms/step\n",
      "Epoch 35/100\n",
      "1/1 - 1s - loss: 0.2210 - 585ms/epoch - 585ms/step\n",
      "Epoch 36/100\n",
      "1/1 - 1s - loss: 0.2232 - 541ms/epoch - 541ms/step\n",
      "Epoch 37/100\n",
      "1/1 - 1s - loss: 0.2177 - 587ms/epoch - 587ms/step\n",
      "Epoch 38/100\n",
      "1/1 - 1s - loss: 0.2170 - 621ms/epoch - 621ms/step\n",
      "Epoch 39/100\n",
      "1/1 - 1s - loss: 0.2198 - 763ms/epoch - 763ms/step\n",
      "Epoch 40/100\n",
      "1/1 - 1s - loss: 0.2258 - 597ms/epoch - 597ms/step\n",
      "Epoch 41/100\n",
      "1/1 - 1s - loss: 0.2127 - 578ms/epoch - 578ms/step\n",
      "Epoch 42/100\n",
      "1/1 - 1s - loss: 0.2196 - 627ms/epoch - 627ms/step\n",
      "Epoch 43/100\n",
      "1/1 - 1s - loss: 0.2175 - 666ms/epoch - 666ms/step\n",
      "Epoch 44/100\n",
      "1/1 - 1s - loss: 0.2189 - 550ms/epoch - 550ms/step\n",
      "Epoch 45/100\n",
      "1/1 - 1s - loss: 0.2075 - 673ms/epoch - 673ms/step\n",
      "Epoch 46/100\n",
      "1/1 - 1s - loss: 0.2119 - 568ms/epoch - 568ms/step\n",
      "Epoch 47/100\n",
      "1/1 - 1s - loss: 0.2054 - 697ms/epoch - 697ms/step\n",
      "Epoch 48/100\n",
      "1/1 - 1s - loss: 0.2063 - 639ms/epoch - 639ms/step\n",
      "Epoch 49/100\n",
      "1/1 - 1s - loss: 0.2022 - 576ms/epoch - 576ms/step\n",
      "Epoch 50/100\n",
      "1/1 - 1s - loss: 0.2110 - 541ms/epoch - 541ms/step\n",
      "Epoch 51/100\n",
      "1/1 - 1s - loss: 0.2018 - 531ms/epoch - 531ms/step\n",
      "Epoch 52/100\n",
      "1/1 - 1s - loss: 0.2051 - 554ms/epoch - 554ms/step\n",
      "Epoch 53/100\n",
      "1/1 - 1s - loss: 0.2031 - 544ms/epoch - 544ms/step\n",
      "Epoch 54/100\n",
      "1/1 - 1s - loss: 0.2209 - 547ms/epoch - 547ms/step\n",
      "Epoch 55/100\n",
      "1/1 - 1s - loss: 0.2058 - 944ms/epoch - 944ms/step\n",
      "Epoch 56/100\n",
      "1/1 - 1s - loss: 0.2022 - 986ms/epoch - 986ms/step\n",
      "Epoch 57/100\n",
      "1/1 - 1s - loss: 0.1979 - 934ms/epoch - 934ms/step\n",
      "Epoch 58/100\n",
      "1/1 - 1s - loss: 0.2080 - 987ms/epoch - 987ms/step\n",
      "Epoch 59/100\n",
      "1/1 - 1s - loss: 0.2037 - 1s/epoch - 1s/step\n",
      "Epoch 60/100\n",
      "1/1 - 1s - loss: 0.2117 - 984ms/epoch - 984ms/step\n",
      "Epoch 61/100\n",
      "1/1 - 1s - loss: 0.2002 - 912ms/epoch - 912ms/step\n",
      "Epoch 62/100\n",
      "1/1 - 1s - loss: 0.2082 - 1s/epoch - 1s/step\n",
      "Epoch 63/100\n",
      "1/1 - 1s - loss: 0.1905 - 644ms/epoch - 644ms/step\n",
      "Epoch 64/100\n",
      "1/1 - 1s - loss: 0.2015 - 802ms/epoch - 802ms/step\n",
      "Epoch 65/100\n",
      "1/1 - 1s - loss: 0.1983 - 573ms/epoch - 573ms/step\n",
      "Epoch 66/100\n",
      "1/1 - 1s - loss: 0.1956 - 635ms/epoch - 635ms/step\n",
      "Epoch 67/100\n",
      "1/1 - 1s - loss: 0.1909 - 565ms/epoch - 565ms/step\n",
      "Epoch 68/100\n",
      "1/1 - 1s - loss: 0.1987 - 560ms/epoch - 560ms/step\n",
      "Epoch 69/100\n",
      "1/1 - 1s - loss: 0.1889 - 546ms/epoch - 546ms/step\n",
      "Epoch 70/100\n",
      "1/1 - 1s - loss: 0.1954 - 545ms/epoch - 545ms/step\n",
      "Epoch 71/100\n",
      "1/1 - 1s - loss: 0.1940 - 557ms/epoch - 557ms/step\n",
      "Epoch 72/100\n",
      "1/1 - 1s - loss: 0.1944 - 535ms/epoch - 535ms/step\n",
      "Epoch 73/100\n",
      "1/1 - 1s - loss: 0.1914 - 575ms/epoch - 575ms/step\n",
      "Epoch 74/100\n",
      "1/1 - 1s - loss: 0.1943 - 557ms/epoch - 557ms/step\n",
      "Epoch 75/100\n",
      "1/1 - 1s - loss: 0.1901 - 555ms/epoch - 555ms/step\n",
      "Epoch 76/100\n",
      "1/1 - 1s - loss: 0.1884 - 551ms/epoch - 551ms/step\n",
      "Epoch 77/100\n",
      "1/1 - 1s - loss: 0.1923 - 543ms/epoch - 543ms/step\n",
      "Epoch 78/100\n",
      "1/1 - 1s - loss: 0.1851 - 554ms/epoch - 554ms/step\n",
      "Epoch 79/100\n",
      "1/1 - 1s - loss: 0.1862 - 552ms/epoch - 552ms/step\n",
      "Epoch 80/100\n",
      "1/1 - 1s - loss: 0.1851 - 556ms/epoch - 556ms/step\n",
      "Epoch 81/100\n",
      "1/1 - 1s - loss: 0.1880 - 544ms/epoch - 544ms/step\n",
      "Epoch 82/100\n",
      "1/1 - 1s - loss: 0.1838 - 550ms/epoch - 550ms/step\n",
      "Epoch 83/100\n",
      "1/1 - 1s - loss: 0.1839 - 551ms/epoch - 551ms/step\n",
      "Epoch 84/100\n",
      "1/1 - 1s - loss: 0.1817 - 553ms/epoch - 553ms/step\n",
      "Epoch 85/100\n",
      "1/1 - 1s - loss: 0.1844 - 549ms/epoch - 549ms/step\n",
      "Epoch 86/100\n",
      "1/1 - 1s - loss: 0.1822 - 550ms/epoch - 550ms/step\n",
      "Epoch 87/100\n",
      "1/1 - 1s - loss: 0.1826 - 548ms/epoch - 548ms/step\n",
      "Epoch 88/100\n",
      "1/1 - 1s - loss: 0.1836 - 547ms/epoch - 547ms/step\n",
      "Epoch 89/100\n",
      "1/1 - 1s - loss: 0.1793 - 551ms/epoch - 551ms/step\n",
      "Epoch 90/100\n",
      "1/1 - 1s - loss: 0.1876 - 545ms/epoch - 545ms/step\n",
      "Epoch 91/100\n",
      "1/1 - 1s - loss: 0.1827 - 537ms/epoch - 537ms/step\n",
      "Epoch 92/100\n",
      "1/1 - 1s - loss: 0.1786 - 550ms/epoch - 550ms/step\n",
      "Epoch 93/100\n",
      "1/1 - 1s - loss: 0.1798 - 555ms/epoch - 555ms/step\n",
      "Epoch 94/100\n",
      "1/1 - 1s - loss: 0.1812 - 547ms/epoch - 547ms/step\n",
      "Epoch 95/100\n",
      "1/1 - 1s - loss: 0.1776 - 548ms/epoch - 548ms/step\n",
      "Epoch 96/100\n",
      "1/1 - 1s - loss: 0.1770 - 538ms/epoch - 538ms/step\n",
      "Epoch 97/100\n",
      "1/1 - 1s - loss: 0.1752 - 551ms/epoch - 551ms/step\n",
      "Epoch 98/100\n",
      "1/1 - 1s - loss: 0.1837 - 539ms/epoch - 539ms/step\n",
      "Epoch 99/100\n",
      "1/1 - 1s - loss: 0.1778 - 547ms/epoch - 547ms/step\n",
      "Epoch 100/100\n",
      "1/1 - 1s - loss: 0.1803 - 544ms/epoch - 544ms/step\n"
     ]
    },
    {
     "data": {
      "image/png": "[encoded data removed]",
      "text/plain": [
       "<Figure size 504x288 with 1 Axes>"
      ]
     },
     "metadata": {
      "needs_background": "light"
     },
     "output_type": "display_data"
    }
   ],
   "source": [
    "#GCN\n",
    "fullbatch_generator_gcn = FullBatchNodeGenerator(graph_obj, sparse=True)\n",
    "gcn_model = GCN(layer_sizes=[128], activations=[\"relu\"], generator=fullbatch_generator_gcn)\n",
    "gcn = run_deep_graph_infomax(gcn_model, fullbatch_generator_gcn, epochs=100)"
   ]
  },
  {
   "cell_type": "code",
   "execution_count": 10,
   "id": "e004df24",
   "metadata": {},
   "outputs": [],
   "source": [
    "#GCN OUTPUT\n",
    "emb_gcn_model_output = gcn"
   ]
  },
  {
   "cell_type": "code",
   "execution_count": 21,
   "id": "181be1a8",
   "metadata": {},
   "outputs": [
    {
     "name": "stdout",
     "output_type": "stream",
     "text": [
      "Using GCN (local pooling) filters...\n"
     ]
    }
   ],
   "source": [
    "fullbatch_generator_gcn = FullBatchNodeGenerator(graph_obj, sparse=True)"
   ]
  },
  {
   "cell_type": "code",
   "execution_count": 24,
   "id": "bcb33f0d",
   "metadata": {},
   "outputs": [
    {
     "data": {
      "text/plain": [
       "<stellargraph.mapper.sequences.SparseFullBatchSequence at 0x7fee0b1e67c0>"
      ]
     },
     "execution_count": 24,
     "metadata": {},
     "output_type": "execute_result"
    }
   ],
   "source": [
    "fullbatch_generator_gcn.flow([6754])"
   ]
  },
  {
   "cell_type": "code",
   "execution_count": 25,
   "id": "b0f1b561",
   "metadata": {},
   "outputs": [
    {
     "ename": "InvalidArgumentError",
     "evalue": "Graph execution error:\n\nDetected at node 'model_1/graph_convolution/SparseTensorDenseMatMul/SparseTensorDenseMatMul' defined at (most recent call last):\n    File \"/Library/Frameworks/Python.framework/Versions/3.8/lib/python3.8/runpy.py\", line 192, in _run_module_as_main\n      return _run_code(code, main_globals, None,\n    File \"/Library/Frameworks/Python.framework/Versions/3.8/lib/python3.8/runpy.py\", line 85, in _run_code\n      exec(code, run_globals)\n    File \"/Users/sagarkaw/Library/Python/3.8/lib/python/site-packages/ipykernel_launcher.py\", line 16, in <module>\n      app.launch_new_instance()\n    File \"/Users/sagarkaw/Library/Python/3.8/lib/python/site-packages/traitlets/config/application.py\", line 846, in launch_instance\n      app.start()\n    File \"/Users/sagarkaw/Library/Python/3.8/lib/python/site-packages/ipykernel/kernelapp.py\", line 677, in start\n      self.io_loop.start()\n    File \"/Library/Frameworks/Python.framework/Versions/3.8/lib/python3.8/site-packages/tornado/platform/asyncio.py\", line 215, in start\n      self.asyncio_loop.run_forever()\n    File \"/Library/Frameworks/Python.framework/Versions/3.8/lib/python3.8/asyncio/base_events.py\", line 563, in run_forever\n      self._run_once()\n    File \"/Library/Frameworks/Python.framework/Versions/3.8/lib/python3.8/asyncio/base_events.py\", line 1844, in _run_once\n      handle._run()\n    File \"/Library/Frameworks/Python.framework/Versions/3.8/lib/python3.8/asyncio/events.py\", line 81, in _run\n      self._context.run(self._callback, *self._args)\n    File \"/Users/sagarkaw/Library/Python/3.8/lib/python/site-packages/ipykernel/kernelbase.py\", line 457, in dispatch_queue\n      await self.process_one()\n    File \"/Users/sagarkaw/Library/Python/3.8/lib/python/site-packages/ipykernel/kernelbase.py\", line 446, in process_one\n      await dispatch(*args)\n    File \"/Users/sagarkaw/Library/Python/3.8/lib/python/site-packages/ipykernel/kernelbase.py\", line 353, in dispatch_shell\n      await result\n    File \"/Users/sagarkaw/Library/Python/3.8/lib/python/site-packages/ipykernel/kernelbase.py\", line 648, in execute_request\n      reply_content = await reply_content\n    File \"/Users/sagarkaw/Library/Python/3.8/lib/python/site-packages/ipykernel/ipkernel.py\", line 353, in do_execute\n      res = shell.run_cell(code, store_history=store_history, silent=silent)\n    File \"/Users/sagarkaw/Library/Python/3.8/lib/python/site-packages/ipykernel/zmqshell.py\", line 533, in run_cell\n      return super(ZMQInteractiveShell, self).run_cell(*args, **kwargs)\n    File \"/Users/sagarkaw/Library/Python/3.8/lib/python/site-packages/IPython/core/interactiveshell.py\", line 2901, in run_cell\n      result = self._run_cell(\n    File \"/Users/sagarkaw/Library/Python/3.8/lib/python/site-packages/IPython/core/interactiveshell.py\", line 2947, in _run_cell\n      return runner(coro)\n    File \"/Users/sagarkaw/Library/Python/3.8/lib/python/site-packages/IPython/core/async_helpers.py\", line 68, in _pseudo_sync_runner\n      coro.send(None)\n    File \"/Users/sagarkaw/Library/Python/3.8/lib/python/site-packages/IPython/core/interactiveshell.py\", line 3172, in run_cell_async\n      has_raised = await self.run_ast_nodes(code_ast.body, cell_name,\n    File \"/Users/sagarkaw/Library/Python/3.8/lib/python/site-packages/IPython/core/interactiveshell.py\", line 3364, in run_ast_nodes\n      if (await self.run_code(code, result,  async_=asy)):\n    File \"/Users/sagarkaw/Library/Python/3.8/lib/python/site-packages/IPython/core/interactiveshell.py\", line 3444, in run_code\n      exec(code_obj, self.user_global_ns, self.user_ns)\n    File \"/var/folders/2b/x_m3n03152x9tj_8wc0mpq7w0000gn/T/ipykernel_15699/2444809389.py\", line 1, in <module>\n      emb_gcn_model_output.predict(fullbatch_generator_gcn.flow([6754]))\n    File \"/Users/sagarkaw/Library/Python/3.8/lib/python/site-packages/keras/utils/traceback_utils.py\", line 64, in error_handler\n      return fn(*args, **kwargs)\n    File \"/Users/sagarkaw/Library/Python/3.8/lib/python/site-packages/keras/engine/training.py\", line 2033, in predict\n      tmp_batch_outputs = self.predict_function(iterator)\n    File \"/Users/sagarkaw/Library/Python/3.8/lib/python/site-packages/keras/engine/training.py\", line 1845, in predict_function\n      return step_function(self, iterator)\n    File \"/Users/sagarkaw/Library/Python/3.8/lib/python/site-packages/keras/engine/training.py\", line 1834, in step_function\n      outputs = model.distribute_strategy.run(run_step, args=(data,))\n    File \"/Users/sagarkaw/Library/Python/3.8/lib/python/site-packages/keras/engine/training.py\", line 1823, in run_step\n      outputs = model.predict_step(data)\n    File \"/Users/sagarkaw/Library/Python/3.8/lib/python/site-packages/keras/engine/training.py\", line 1791, in predict_step\n      return self(x, training=False)\n    File \"/Users/sagarkaw/Library/Python/3.8/lib/python/site-packages/keras/utils/traceback_utils.py\", line 64, in error_handler\n      return fn(*args, **kwargs)\n    File \"/Users/sagarkaw/Library/Python/3.8/lib/python/site-packages/keras/engine/training.py\", line 490, in __call__\n      return super().__call__(*args, **kwargs)\n    File \"/Users/sagarkaw/Library/Python/3.8/lib/python/site-packages/keras/utils/traceback_utils.py\", line 64, in error_handler\n      return fn(*args, **kwargs)\n    File \"/Users/sagarkaw/Library/Python/3.8/lib/python/site-packages/keras/engine/base_layer.py\", line 1014, in __call__\n      outputs = call_fn(inputs, *args, **kwargs)\n    File \"/Users/sagarkaw/Library/Python/3.8/lib/python/site-packages/keras/utils/traceback_utils.py\", line 92, in error_handler\n      return fn(*args, **kwargs)\n    File \"/Users/sagarkaw/Library/Python/3.8/lib/python/site-packages/keras/engine/functional.py\", line 458, in call\n      return self._run_internal_graph(\n    File \"/Users/sagarkaw/Library/Python/3.8/lib/python/site-packages/keras/engine/functional.py\", line 596, in _run_internal_graph\n      outputs = node.layer(*args, **kwargs)\n    File \"/Users/sagarkaw/Library/Python/3.8/lib/python/site-packages/keras/utils/traceback_utils.py\", line 64, in error_handler\n      return fn(*args, **kwargs)\n    File \"/Users/sagarkaw/Library/Python/3.8/lib/python/site-packages/keras/engine/base_layer.py\", line 1014, in __call__\n      outputs = call_fn(inputs, *args, **kwargs)\n    File \"/Users/sagarkaw/Library/Python/3.8/lib/python/site-packages/keras/utils/traceback_utils.py\", line 92, in error_handler\n      return fn(*args, **kwargs)\n    File \"/Users/sagarkaw/Library/Python/3.8/lib/python/site-packages/stellargraph/layer/gcn.py\", line 195, in call\n      if K.is_sparse(A):\n    File \"/Users/sagarkaw/Library/Python/3.8/lib/python/site-packages/stellargraph/layer/gcn.py\", line 209, in call\n      h_graph = K.dot(A, features_sq)\n    File \"/Users/sagarkaw/Library/Python/3.8/lib/python/site-packages/keras/backend.py\", line 2221, in dot\n      out = tf.sparse.sparse_dense_matmul(x, y)\nNode: 'model_1/graph_convolution/SparseTensorDenseMatMul/SparseTensorDenseMatMul'\nCannot multiply A and B because inner dimension does not match: 8758 vs. 8760.  Did you forget a transpose?  Dimensions of A: [8758, 8758).  Dimensions of B: [8760,2470]\n\t [[{{node model_1/graph_convolution/SparseTensorDenseMatMul/SparseTensorDenseMatMul}}]] [Op:__inference_predict_function_2883]",
     "output_type": "error",
     "traceback": [
      "\u001b[0;31m---------------------------------------------------------------------------\u001b[0m",
      "\u001b[0;31mInvalidArgumentError\u001b[0m                      Traceback (most recent call last)",
      "\u001b[0;32m/var/folders/2b/x_m3n03152x9tj_8wc0mpq7w0000gn/T/ipykernel_15699/2444809389.py\u001b[0m in \u001b[0;36m<module>\u001b[0;34m\u001b[0m\n\u001b[0;32m----> 1\u001b[0;31m \u001b[0memb_gcn_model_output\u001b[0m\u001b[0;34m.\u001b[0m\u001b[0mpredict\u001b[0m\u001b[0;34m(\u001b[0m\u001b[0mfullbatch_generator_gcn\u001b[0m\u001b[0;34m.\u001b[0m\u001b[0mflow\u001b[0m\u001b[0;34m(\u001b[0m\u001b[0;34m[\u001b[0m\u001b[0;36m6754\u001b[0m\u001b[0;34m]\u001b[0m\u001b[0;34m)\u001b[0m\u001b[0;34m)\u001b[0m\u001b[0;34m\u001b[0m\u001b[0;34m\u001b[0m\u001b[0m\n\u001b[0m",
      "\u001b[0;32m~/Library/Python/3.8/lib/python/site-packages/keras/utils/traceback_utils.py\u001b[0m in \u001b[0;36merror_handler\u001b[0;34m(*args, **kwargs)\u001b[0m\n\u001b[1;32m     65\u001b[0m     \u001b[0;32mexcept\u001b[0m \u001b[0mException\u001b[0m \u001b[0;32mas\u001b[0m \u001b[0me\u001b[0m\u001b[0;34m:\u001b[0m  \u001b[0;31m# pylint: disable=broad-except\u001b[0m\u001b[0;34m\u001b[0m\u001b[0;34m\u001b[0m\u001b[0m\n\u001b[1;32m     66\u001b[0m       \u001b[0mfiltered_tb\u001b[0m \u001b[0;34m=\u001b[0m \u001b[0m_process_traceback_frames\u001b[0m\u001b[0;34m(\u001b[0m\u001b[0me\u001b[0m\u001b[0;34m.\u001b[0m\u001b[0m__traceback__\u001b[0m\u001b[0;34m)\u001b[0m\u001b[0;34m\u001b[0m\u001b[0;34m\u001b[0m\u001b[0m\n\u001b[0;32m---> 67\u001b[0;31m       \u001b[0;32mraise\u001b[0m \u001b[0me\u001b[0m\u001b[0;34m.\u001b[0m\u001b[0mwith_traceback\u001b[0m\u001b[0;34m(\u001b[0m\u001b[0mfiltered_tb\u001b[0m\u001b[0;34m)\u001b[0m \u001b[0;32mfrom\u001b[0m \u001b[0;32mNone\u001b[0m\u001b[0;34m\u001b[0m\u001b[0;34m\u001b[0m\u001b[0m\n\u001b[0m\u001b[1;32m     68\u001b[0m     \u001b[0;32mfinally\u001b[0m\u001b[0;34m:\u001b[0m\u001b[0;34m\u001b[0m\u001b[0;34m\u001b[0m\u001b[0m\n\u001b[1;32m     69\u001b[0m       \u001b[0;32mdel\u001b[0m \u001b[0mfiltered_tb\u001b[0m\u001b[0;34m\u001b[0m\u001b[0;34m\u001b[0m\u001b[0m\n",
      "\u001b[0;32m~/Library/Python/3.8/lib/python/site-packages/tensorflow/python/eager/execute.py\u001b[0m in \u001b[0;36mquick_execute\u001b[0;34m(op_name, num_outputs, inputs, attrs, ctx, name)\u001b[0m\n\u001b[1;32m     52\u001b[0m   \u001b[0;32mtry\u001b[0m\u001b[0;34m:\u001b[0m\u001b[0;34m\u001b[0m\u001b[0;34m\u001b[0m\u001b[0m\n\u001b[1;32m     53\u001b[0m     \u001b[0mctx\u001b[0m\u001b[0;34m.\u001b[0m\u001b[0mensure_initialized\u001b[0m\u001b[0;34m(\u001b[0m\u001b[0;34m)\u001b[0m\u001b[0;34m\u001b[0m\u001b[0;34m\u001b[0m\u001b[0m\n\u001b[0;32m---> 54\u001b[0;31m     tensors = pywrap_tfe.TFE_Py_Execute(ctx._handle, device_name, op_name,\n\u001b[0m\u001b[1;32m     55\u001b[0m                                         inputs, attrs, num_outputs)\n\u001b[1;32m     56\u001b[0m   \u001b[0;32mexcept\u001b[0m \u001b[0mcore\u001b[0m\u001b[0;34m.\u001b[0m\u001b[0m_NotOkStatusException\u001b[0m \u001b[0;32mas\u001b[0m \u001b[0me\u001b[0m\u001b[0;34m:\u001b[0m\u001b[0;34m\u001b[0m\u001b[0;34m\u001b[0m\u001b[0m\n",
      "\u001b[0;31mInvalidArgumentError\u001b[0m: Graph execution error:\n\nDetected at node 'model_1/graph_convolution/SparseTensorDenseMatMul/SparseTensorDenseMatMul' defined at (most recent call last):\n    File \"/Library/Frameworks/Python.framework/Versions/3.8/lib/python3.8/runpy.py\", line 192, in _run_module_as_main\n      return _run_code(code, main_globals, None,\n    File \"/Library/Frameworks/Python.framework/Versions/3.8/lib/python3.8/runpy.py\", line 85, in _run_code\n      exec(code, run_globals)\n    File \"/Users/sagarkaw/Library/Python/3.8/lib/python/site-packages/ipykernel_launcher.py\", line 16, in <module>\n      app.launch_new_instance()\n    File \"/Users/sagarkaw/Library/Python/3.8/lib/python/site-packages/traitlets/config/application.py\", line 846, in launch_instance\n      app.start()\n    File \"/Users/sagarkaw/Library/Python/3.8/lib/python/site-packages/ipykernel/kernelapp.py\", line 677, in start\n      self.io_loop.start()\n    File \"/Library/Frameworks/Python.framework/Versions/3.8/lib/python3.8/site-packages/tornado/platform/asyncio.py\", line 215, in start\n      self.asyncio_loop.run_forever()\n    File \"/Library/Frameworks/Python.framework/Versions/3.8/lib/python3.8/asyncio/base_events.py\", line 563, in run_forever\n      self._run_once()\n    File \"/Library/Frameworks/Python.framework/Versions/3.8/lib/python3.8/asyncio/base_events.py\", line 1844, in _run_once\n      handle._run()\n    File \"/Library/Frameworks/Python.framework/Versions/3.8/lib/python3.8/asyncio/events.py\", line 81, in _run\n      self._context.run(self._callback, *self._args)\n    File \"/Users/sagarkaw/Library/Python/3.8/lib/python/site-packages/ipykernel/kernelbase.py\", line 457, in dispatch_queue\n      await self.process_one()\n    File \"/Users/sagarkaw/Library/Python/3.8/lib/python/site-packages/ipykernel/kernelbase.py\", line 446, in process_one\n      await dispatch(*args)\n    File \"/Users/sagarkaw/Library/Python/3.8/lib/python/site-packages/ipykernel/kernelbase.py\", line 353, in dispatch_shell\n      await result\n    File \"/Users/sagarkaw/Library/Python/3.8/lib/python/site-packages/ipykernel/kernelbase.py\", line 648, in execute_request\n      reply_content = await reply_content\n    File \"/Users/sagarkaw/Library/Python/3.8/lib/python/site-packages/ipykernel/ipkernel.py\", line 353, in do_execute\n      res = shell.run_cell(code, store_history=store_history, silent=silent)\n    File \"/Users/sagarkaw/Library/Python/3.8/lib/python/site-packages/ipykernel/zmqshell.py\", line 533, in run_cell\n      return super(ZMQInteractiveShell, self).run_cell(*args, **kwargs)\n    File \"/Users/sagarkaw/Library/Python/3.8/lib/python/site-packages/IPython/core/interactiveshell.py\", line 2901, in run_cell\n      result = self._run_cell(\n    File \"/Users/sagarkaw/Library/Python/3.8/lib/python/site-packages/IPython/core/interactiveshell.py\", line 2947, in _run_cell\n      return runner(coro)\n    File \"/Users/sagarkaw/Library/Python/3.8/lib/python/site-packages/IPython/core/async_helpers.py\", line 68, in _pseudo_sync_runner\n      coro.send(None)\n    File \"/Users/sagarkaw/Library/Python/3.8/lib/python/site-packages/IPython/core/interactiveshell.py\", line 3172, in run_cell_async\n      has_raised = await self.run_ast_nodes(code_ast.body, cell_name,\n    File \"/Users/sagarkaw/Library/Python/3.8/lib/python/site-packages/IPython/core/interactiveshell.py\", line 3364, in run_ast_nodes\n      if (await self.run_code(code, result,  async_=asy)):\n    File \"/Users/sagarkaw/Library/Python/3.8/lib/python/site-packages/IPython/core/interactiveshell.py\", line 3444, in run_code\n      exec(code_obj, self.user_global_ns, self.user_ns)\n    File \"/var/folders/2b/x_m3n03152x9tj_8wc0mpq7w0000gn/T/ipykernel_15699/2444809389.py\", line 1, in <module>\n      emb_gcn_model_output.predict(fullbatch_generator_gcn.flow([6754]))\n    File \"/Users/sagarkaw/Library/Python/3.8/lib/python/site-packages/keras/utils/traceback_utils.py\", line 64, in error_handler\n      return fn(*args, **kwargs)\n    File \"/Users/sagarkaw/Library/Python/3.8/lib/python/site-packages/keras/engine/training.py\", line 2033, in predict\n      tmp_batch_outputs = self.predict_function(iterator)\n    File \"/Users/sagarkaw/Library/Python/3.8/lib/python/site-packages/keras/engine/training.py\", line 1845, in predict_function\n      return step_function(self, iterator)\n    File \"/Users/sagarkaw/Library/Python/3.8/lib/python/site-packages/keras/engine/training.py\", line 1834, in step_function\n      outputs = model.distribute_strategy.run(run_step, args=(data,))\n    File \"/Users/sagarkaw/Library/Python/3.8/lib/python/site-packages/keras/engine/training.py\", line 1823, in run_step\n      outputs = model.predict_step(data)\n    File \"/Users/sagarkaw/Library/Python/3.8/lib/python/site-packages/keras/engine/training.py\", line 1791, in predict_step\n      return self(x, training=False)\n    File \"/Users/sagarkaw/Library/Python/3.8/lib/python/site-packages/keras/utils/traceback_utils.py\", line 64, in error_handler\n      return fn(*args, **kwargs)\n    File \"/Users/sagarkaw/Library/Python/3.8/lib/python/site-packages/keras/engine/training.py\", line 490, in __call__\n      return super().__call__(*args, **kwargs)\n    File \"/Users/sagarkaw/Library/Python/3.8/lib/python/site-packages/keras/utils/traceback_utils.py\", line 64, in error_handler\n      return fn(*args, **kwargs)\n    File \"/Users/sagarkaw/Library/Python/3.8/lib/python/site-packages/keras/engine/base_layer.py\", line 1014, in __call__\n      outputs = call_fn(inputs, *args, **kwargs)\n    File \"/Users/sagarkaw/Library/Python/3.8/lib/python/site-packages/keras/utils/traceback_utils.py\", line 92, in error_handler\n      return fn(*args, **kwargs)\n    File \"/Users/sagarkaw/Library/Python/3.8/lib/python/site-packages/keras/engine/functional.py\", line 458, in call\n      return self._run_internal_graph(\n    File \"/Users/sagarkaw/Library/Python/3.8/lib/python/site-packages/keras/engine/functional.py\", line 596, in _run_internal_graph\n      outputs = node.layer(*args, **kwargs)\n    File \"/Users/sagarkaw/Library/Python/3.8/lib/python/site-packages/keras/utils/traceback_utils.py\", line 64, in error_handler\n      return fn(*args, **kwargs)\n    File \"/Users/sagarkaw/Library/Python/3.8/lib/python/site-packages/keras/engine/base_layer.py\", line 1014, in __call__\n      outputs = call_fn(inputs, *args, **kwargs)\n    File \"/Users/sagarkaw/Library/Python/3.8/lib/python/site-packages/keras/utils/traceback_utils.py\", line 92, in error_handler\n      return fn(*args, **kwargs)\n    File \"/Users/sagarkaw/Library/Python/3.8/lib/python/site-packages/stellargraph/layer/gcn.py\", line 195, in call\n      if K.is_sparse(A):\n    File \"/Users/sagarkaw/Library/Python/3.8/lib/python/site-packages/stellargraph/layer/gcn.py\", line 209, in call\n      h_graph = K.dot(A, features_sq)\n    File \"/Users/sagarkaw/Library/Python/3.8/lib/python/site-packages/keras/backend.py\", line 2221, in dot\n      out = tf.sparse.sparse_dense_matmul(x, y)\nNode: 'model_1/graph_convolution/SparseTensorDenseMatMul/SparseTensorDenseMatMul'\nCannot multiply A and B because inner dimension does not match: 8758 vs. 8760.  Did you forget a transpose?  Dimensions of A: [8758, 8758).  Dimensions of B: [8760,2470]\n\t [[{{node model_1/graph_convolution/SparseTensorDenseMatMul/SparseTensorDenseMatMul}}]] [Op:__inference_predict_function_2883]"
     ]
    }
   ],
   "source": [
    "emb_gcn_model_output.predict(fullbatch_generator_gcn.flow([6754]))"
   ]
  },
  {
   "cell_type": "code",
   "execution_count": null,
   "id": "21b230cd",
   "metadata": {},
   "outputs": [],
   "source": [
    "#GCN EMBEDDING GENERATION\n",
    "node_embeddings_gcn = []\n",
    "for i in range(len(graph_obj.nodes())):\n",
    "    vec = emb_gcn_model_output.predict(fullbatch_generator_gcn.flow([i]))\n",
    "    node_embeddings_gcn.append(vec[0])\n",
    "node_embeddings_GCN = np.array(node_embeddings_gcn)\n",
    "np.save(emb_fpath_GCN, node_embeddings_GCN)"
   ]
  },
  {
   "cell_type": "code",
   "execution_count": null,
   "id": "937bb148",
   "metadata": {},
   "outputs": [],
   "source": [
    "#GCN EPOCHS TIME\n",
    "times = time_callback.times\n",
    "cumulative_times = times\n",
    "for i in range(len(cumulative_times)):\n",
    "    if(i>0):\n",
    "        cumulative_times[i] = cumulative_times[i]+cumulative_times[i-1]\n",
    "time_per_epoch = []\n",
    "for i in range(1,101):\n",
    "    time_per_epoch.append((i,cumulative_times[i-1]))\n",
    "df_time_per_epoch = pd.DataFrame(time_per_epoch)\n",
    "df_time_per_epoch.to_csv(model_save_ComputationTimePerEpoch + \"/GCN_time_per_epoch.csv\")"
   ]
  },
  {
   "cell_type": "code",
   "execution_count": null,
   "id": "d64e2ec0",
   "metadata": {},
   "outputs": [],
   "source": [
    "node_embeddings_normalized_GCN = normalize(node_embeddings_GCN, axis=1, norm='l2')"
   ]
  },
  {
   "cell_type": "code",
   "execution_count": null,
   "id": "fd2e135a",
   "metadata": {},
   "outputs": [],
   "source": [
    "entity_id_mapping = pd.read_csv(src_dir + 'entity_id_mapping.csv')"
   ]
  },
  {
   "cell_type": "code",
   "execution_count": null,
   "id": "69313d83",
   "metadata": {},
   "outputs": [],
   "source": [
    "#GCN SAVING USER EMBEDDINGS AND SKILL EMBEDDINGS\n",
    "embedding_dict_gcn = {'user': {}, 'skill': {}}\n",
    "for i, row in entity_id_mapping.iterrows():\n",
    "    if row['domain'] == 'author':\n",
    "        embedding_dict_gcn['user'].update({row['entity_id']: node_embeddings_normalized_GCN[row['serial_id']]})  \n",
    "    elif row['domain'] == 'term':\n",
    "        embedding_dict_gcn['skill'].update({row['entity_id']: node_embeddings_normalized_GCN[row['serial_id']]}) \n",
    "pickle.dump(embedding_dict_gcn, open(model_save_path + '/embedding_dict_gcn.pkl', 'wb'))"
   ]
  },
  {
   "cell_type": "code",
   "execution_count": null,
   "id": "a0e814ca",
   "metadata": {},
   "outputs": [],
   "source": [
    "#GCN SAVING USER EMBEDDINGS, SKILL EMBEDDINGS AND CONFERENCE EMBEDDINGS\n",
    "embedding_dict_USC_gcn = {'user': {}, 'skill': {}, 'conf':{}}\n",
    "for i, row in entity_id_mapping.iterrows():\n",
    "    if row['domain'] == 'author':\n",
    "        embedding_dict_USC_gcn['user'].update({row['entity_id']: node_embeddings_normalized_GCN[row['serial_id']]})  \n",
    "    elif row['domain'] == 'term':\n",
    "        embedding_dict_USC_gcn['skill'].update({row['entity_id']: node_embeddings_normalized_GCN[row['serial_id']]})\n",
    "    elif row['domain'] == 'conf':\n",
    "        embedding_dict_USC_gcn['conf'].update({row['entity_id']: node_embeddings_normalized_GCN[row['serial_id']]})\n",
    "        \n",
    "pickle.dump(embedding_dict_USC_gcn, open(model_save_path + '/embedding_dict_USC_gcn.pkl', 'wb'))"
   ]
  }
 ],
 "metadata": {
  "kernelspec": {
   "display_name": "Python 3 (ipykernel)",
   "language": "python",
   "name": "python3"
  },
  "language_info": {
   "codemirror_mode": {
    "name": "ipython",
    "version": 3
   },
   "file_extension": ".py",
   "mimetype": "text/x-python",
   "name": "python",
   "nbconvert_exporter": "python",
   "pygments_lexer": "ipython3",
   "version": "3.8.0"
  }
 },
 "nbformat": 4,
 "nbformat_minor": 5
}
